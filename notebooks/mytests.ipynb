{
 "cells": [
  {
   "cell_type": "code",
   "execution_count": 44,
   "id": "2007e979",
   "metadata": {},
   "outputs": [],
   "source": [
    "import pandas as pd\n",
    "import numpy as np"
   ]
  },
  {
   "cell_type": "code",
   "execution_count": 59,
   "id": "cbe568c8",
   "metadata": {},
   "outputs": [],
   "source": [
    "fbrain_connectivity = pd.read_parquet('Connectivity_783.parquet')\n",
    "fbrain_neurons = pd.read_csv('2023_03_23_completeness_630_final.csv')"
   ]
  },
  {
   "cell_type": "code",
   "execution_count": 73,
   "id": "17b4fc54",
   "metadata": {},
   "outputs": [
    {
     "name": "stdout",
     "output_type": "stream",
     "text": [
      "127399\n",
      "138639\n"
     ]
    }
   ],
   "source": [
    "print(fbrain_neurons.index[-1])\n",
    "print(np.unique(fbrain_connectivity[['Presynaptic_ID','Postsynaptic_ID']].values).shape[0])"
   ]
  },
  {
   "cell_type": "code",
   "execution_count": 76,
   "id": "f2a539cb",
   "metadata": {},
   "outputs": [
    {
     "data": {
      "text/plain": [
       "127400"
      ]
     },
     "execution_count": 76,
     "metadata": {},
     "output_type": "execute_result"
    }
   ],
   "source": [
    "fbrain_neurons['Completed'].sum()"
   ]
  },
  {
   "cell_type": "code",
   "execution_count": 78,
   "id": "bff01e8e",
   "metadata": {},
   "outputs": [
    {
     "data": {
      "text/html": [
       "<div>\n",
       "<style scoped>\n",
       "    .dataframe tbody tr th:only-of-type {\n",
       "        vertical-align: middle;\n",
       "    }\n",
       "\n",
       "    .dataframe tbody tr th {\n",
       "        vertical-align: top;\n",
       "    }\n",
       "\n",
       "    .dataframe thead th {\n",
       "        text-align: right;\n",
       "    }\n",
       "</style>\n",
       "<table border=\"1\" class=\"dataframe\">\n",
       "  <thead>\n",
       "    <tr style=\"text-align: right;\">\n",
       "      <th></th>\n",
       "      <th>Unnamed: 0</th>\n",
       "      <th>Completed</th>\n",
       "    </tr>\n",
       "  </thead>\n",
       "  <tbody>\n",
       "    <tr>\n",
       "      <th>0</th>\n",
       "      <td>720575940596125868</td>\n",
       "      <td>True</td>\n",
       "    </tr>\n",
       "    <tr>\n",
       "      <th>1</th>\n",
       "      <td>720575940597856265</td>\n",
       "      <td>True</td>\n",
       "    </tr>\n",
       "    <tr>\n",
       "      <th>2</th>\n",
       "      <td>720575940597944841</td>\n",
       "      <td>True</td>\n",
       "    </tr>\n",
       "    <tr>\n",
       "      <th>3</th>\n",
       "      <td>720575940598267657</td>\n",
       "      <td>True</td>\n",
       "    </tr>\n",
       "    <tr>\n",
       "      <th>4</th>\n",
       "      <td>720575940599333574</td>\n",
       "      <td>True</td>\n",
       "    </tr>\n",
       "    <tr>\n",
       "      <th>...</th>\n",
       "      <td>...</td>\n",
       "      <td>...</td>\n",
       "    </tr>\n",
       "    <tr>\n",
       "      <th>127395</th>\n",
       "      <td>720575940660862849</td>\n",
       "      <td>True</td>\n",
       "    </tr>\n",
       "    <tr>\n",
       "      <th>127396</th>\n",
       "      <td>720575940660863105</td>\n",
       "      <td>True</td>\n",
       "    </tr>\n",
       "    <tr>\n",
       "      <th>127397</th>\n",
       "      <td>720575940660865409</td>\n",
       "      <td>True</td>\n",
       "    </tr>\n",
       "    <tr>\n",
       "      <th>127398</th>\n",
       "      <td>720575940660868481</td>\n",
       "      <td>True</td>\n",
       "    </tr>\n",
       "    <tr>\n",
       "      <th>127399</th>\n",
       "      <td>720575940660868737</td>\n",
       "      <td>True</td>\n",
       "    </tr>\n",
       "  </tbody>\n",
       "</table>\n",
       "<p>127400 rows × 2 columns</p>\n",
       "</div>"
      ],
      "text/plain": [
       "                Unnamed: 0  Completed\n",
       "0       720575940596125868       True\n",
       "1       720575940597856265       True\n",
       "2       720575940597944841       True\n",
       "3       720575940598267657       True\n",
       "4       720575940599333574       True\n",
       "...                    ...        ...\n",
       "127395  720575940660862849       True\n",
       "127396  720575940660863105       True\n",
       "127397  720575940660865409       True\n",
       "127398  720575940660868481       True\n",
       "127399  720575940660868737       True\n",
       "\n",
       "[127400 rows x 2 columns]"
      ]
     },
     "execution_count": 78,
     "metadata": {},
     "output_type": "execute_result"
    }
   ],
   "source": [
    "fbrain_neurons"
   ]
  },
  {
   "cell_type": "markdown",
   "id": "eee2bab1",
   "metadata": {},
   "source": [
    "Transform MANC dataset into df with columns: ['Presynaptic_ID', 'Postsynaptic_ID', 'Presynaptic_Index', 'Postsynaptic_Index', 'Connectivity', 'Excitatory', 'Excitatory x Connectivity']\n",
    "save as .parquet file (possible with pandas)\n",
    "\n"
   ]
  },
  {
   "cell_type": "code",
   "execution_count": 14,
   "id": "5f54c49d",
   "metadata": {},
   "outputs": [
    {
     "name": "stderr",
     "output_type": "stream",
     "text": [
      "C:\\Users\\bschult1\\AppData\\Local\\Temp\\ipykernel_12004\\374839653.py:1: DtypeWarning: Columns (11,13,15,22,23,35,37,40,44,46) have mixed types. Specify dtype option on import or set low_memory=False.\n",
      "  neuron_info = pd.read_csv('mystuff/neurons.csv')\n"
     ]
    }
   ],
   "source": [
    "neuron_info = pd.read_csv('mystuff/neurons.csv')\n",
    "connections = pd.read_csv('mystuff/fetch_traced_adjacencies_roi_conn.csv')"
   ]
  },
  {
   "cell_type": "code",
   "execution_count": 53,
   "id": "d48e9f1e",
   "metadata": {},
   "outputs": [],
   "source": [
    "# Create a dict to assign a unique index to each neuron (key: bodyId)\n",
    "index_dict = { key:val for key,val in zip(neuron_info['bodyId'], neuron_info.index) }\n",
    "# Create a dict stating the synapse sign for each neuron (key: bodyId) \n",
    "synsign_dict = {}\n",
    "for key in index_dict.keys():\n",
    "    nt = neuron_info.loc[neuron_info['bodyId']==key, 'predictedNt'].values\n",
    "\n",
    "    if nt == 'glutamate' or nt == 'gaba':\n",
    "        synsign_dict[key] = -1\n",
    "    else:\n",
    "        synsign_dict[key] = 1\n",
    "\n",
    "\n",
    "pre_index = []\n",
    "post_index = []\n",
    "excitatory = []\n",
    "# For each connection save the pre and postsynaptic neuron index and the synapse sign\n",
    "for i in connections.index:\n",
    "    pre_index.append(index_dict[connections.loc[i, 'bodyId_pre']])\n",
    "    post_index.append(index_dict[connections.loc[i, 'bodyId_post']])\n",
    "    excitatory.append(synsign_dict[connections.loc[i, 'bodyId_pre']])\n",
    "\n",
    "pre_index = np.array(pre_index)\n",
    "post_index = np.array(post_index)\n",
    "excitatory = np.array(excitatory)"
   ]
  },
  {
   "cell_type": "markdown",
   "id": "992632af",
   "metadata": {},
   "source": [
    "In the paper, did they group/sum all connections between two neurons of the same IDs or did they not? \n",
    "    - check the paper as well as the code"
   ]
  },
  {
   "cell_type": "code",
   "execution_count": 83,
   "id": "c314fc32",
   "metadata": {},
   "outputs": [],
   "source": [
    "# Create a DataFrame analog to the one used for the brain modelling (columns: Presynaptic_ID, Postsynaptic_ID, Presynaptic_Index, Postsynaptic_Index, Connectivity, Excitatory, Excitatory x Connectivity)\n",
    "df_dict = {'Presynaptic_ID':connections['bodyId_pre'].values, 'Postsynaptic_ID':connections['bodyId_post'].values, 'Presynaptic_Index':pre_index, 'Postsynaptic_Index':post_index, 'Connectivity':connections['weight'].values, \n",
    "           'Excitatory':excitatory, 'Excitatory x Connectivity':excitatory*connections['weight'].values}\n",
    "\n",
    "# Make data frame\n",
    "manc_df = pd.DataFrame(df_dict)\n",
    "\n",
    "# Save to parquet\n",
    "manc_df.to_parquet('./manc_connectivity.parquet')\n",
    "\n",
    "# Save list of neurons as csv\n",
    "manc_completeness = pd.DataFrame({'':neuron_info['bodyId'].values, 'Completed':np.repeat(True, neuron_info['bodyId'].size)})\n",
    "manc_completeness.to_csv('./manc_completeness.csv')"
   ]
  }
 ],
 "metadata": {
  "kernelspec": {
   "display_name": "droso_brain",
   "language": "python",
   "name": "python3"
  },
  "language_info": {
   "codemirror_mode": {
    "name": "ipython",
    "version": 3
   },
   "file_extension": ".py",
   "mimetype": "text/x-python",
   "name": "python",
   "nbconvert_exporter": "python",
   "pygments_lexer": "ipython3",
   "version": "3.10.18"
  }
 },
 "nbformat": 4,
 "nbformat_minor": 5
}
