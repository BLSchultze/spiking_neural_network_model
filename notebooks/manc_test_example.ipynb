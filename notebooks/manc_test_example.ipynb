{
 "cells": [
  {
   "cell_type": "code",
   "execution_count": 2,
   "metadata": {
    "lines_to_next_cell": 2
   },
   "outputs": [
    {
     "name": "stdout",
     "output_type": "stream",
     "text": [
      "The autoreload extension is already loaded. To reload it, use:\n",
      "  %reload_ext autoreload\n"
     ]
    }
   ],
   "source": [
    "%load_ext autoreload\n",
    "%autoreload 2\n",
    "\n",
    "from src import (\n",
    "    datahandler as dah,\n",
    "    model as mod,\n",
    "    graphs as gra,\n",
    "    visualize as vis,\n",
    "    analysis as ana,\n",
    ")\n",
    "\n",
    "import pandas as pd\n",
    "import numpy as np\n",
    "from brian2 import Hz, mV, ms, Mohm, uF"
   ]
  },
  {
   "attachments": {},
   "cell_type": "markdown",
   "metadata": {},
   "source": [
    "This workflow serves as an example of how to use the spiking neural network\n",
    "model to explore the connectome.\n",
    "\n",
    "It is helpful to be familiar with\n",
    "[basic python data structures](https://neuropsychology.github.io/NeuroKit/resources/learn_python.html)\n",
    "as well as\n",
    "[pandas DataFrames](https://pandas.pydata.org/docs/user_guide/10min.html).\n",
    "\n",
    "# Loading the data\n",
    "\n",
    "## Connectome data\n",
    "To construct the spiking neural network model based on connectome data,\n",
    "we use two data structures:\n",
    "- `ds_ids: pd.Series`\\\n",
    "    A pandas Series with index increasing from 0...N and neuron IDs.\n",
    "    The index is in the following refered to as the canonical ID, the values are the database IDs. Under the hood, `brian2` uses the canonical IDs to refer to neurons.\n",
    "- `df_con: pd.DataFrame`\\\n",
    "    A pandas DataFrame with columns\n",
    "    - `pre: int` canonical ID of presynnaptic neuron\n",
    "    - `post: int` canonical ID of postsynaptic neuron\n",
    "    - `w: int` synnapse number including sign (positive for excitatory, negative for inhibitory)\n",
    "\n",
    "To create the model for other connectomes, the data needs to be loaded into these data structures."
   ]
  },
  {
   "cell_type": "code",
   "execution_count": 3,
   "metadata": {},
   "outputs": [],
   "source": [
    "# set up environment\n",
    "path_comp = \"../data/manc_completeness.csv\"\n",
    "path_con = \"../data/manc_connectivity.parquet\"\n",
    "path_res = \"../results/manc_test/\"\n",
    "\n",
    "# load connectome data\n",
    "ds_ids = dah.load_flywire_ids(path_comp)\n",
    "df_con = dah.load_flywire_connectivity(path_con, ds_ids)"
   ]
  },
  {
   "cell_type": "code",
   "execution_count": 4,
   "metadata": {},
   "outputs": [
    {
     "name": "stderr",
     "output_type": "stream",
     "text": [
      "WARNING    C:\\Users\\schul\\AppData\\Local\\Temp\\ipykernel_11564\\800175382.py:2: DtypeWarning: Columns (11,13,15,22,23,35,37,40,44,46) have mixed types. Specify dtype option on import or set low_memory=False.\n",
      "  neuron_info = pd.read_csv('../data/manc_neurons.csv')\n",
      " [py.warnings]\n"
     ]
    }
   ],
   "source": [
    "# Load the table of MANC neurons\n",
    "neuron_info = pd.read_csv('../data/manc_neurons.csv')\n",
    "\n",
    "# Create a MANC ID: type and a type: MANC ID dictionary\n",
    "mancid_type_dict = { key:val for key,val in zip(neuron_info['bodyId'], neuron_info['type'])}\n",
    "type_mancid_dict = { key:[] for key in neuron_info['type'].unique() }\n",
    "for mancid, key in mancid_type_dict.items(): \n",
    "    type_mancid_dict[key].append(mancid)"
   ]
  },
  {
   "cell_type": "markdown",
   "id": "c01764c3",
   "metadata": {},
   "source": [
    "# run experiments\n",
    "## Using custom neuron names\n",
    "Having defined intuitive custom neuron names allows us to use these instead of the complicated database IDs to refer to neurons\n",
    "in our simulations. Below, we collect some of the neurons we want to excite or silence, e.g., `l_p9 = ['P9_l', 'P9_r']`.\n",
    "\n",
    "If we use custom neuron names, we need to also pass the `name2id` dictionary to the `run_exp` function.\n",
    "\n",
    "## Using multiple CPUs\n",
    "The computational load can be distributed over multiple CPU threads.\n",
    "To choose the number of threads, set `n_procs` to a number not higher than available on your computer.\n",
    "More threads will speed up the computation, but also increase memory usage.\n",
    "\n",
    "We collect these settings in the `run_exp_kw_args` dictionary to pass them more concisely to the `run_exp` function."
   ]
  },
  {
   "cell_type": "code",
   "execution_count": 5,
   "metadata": {},
   "outputs": [],
   "source": [
    "# settings to apply in all following simulations\n",
    "run_exp_kw_args = {\n",
    "    \"ds_ids\": ds_ids,  # neuron database IDs\n",
    "    \"df_con\": df_con,  # connectivity data\n",
    "    \"path_res\": path_res,  # store results here\n",
    "    \"n_proc\": 7,  # number of CPUs to use, -1 uses all available CPU           # current PC has 32 at max\n",
    "    \"id2name\": mancid_type_dict,  # dictionary to map neuron ids to types\n",
    "    \"force_overwrite\": True,  # if true, overwrite existing results\n",
    "    \"n_trl\": 30 # number of trials to run\n",
    "}\n",
    "\n",
    "params = {\n",
    "\n",
    "    # network constants\n",
    "    # Kakaria and de Bivort 2017 https://doi.org/10.3389/fnbeh.2017.00008\n",
    "    # refereneces therein, e.g. Hodgkin and Huxley 1952\n",
    "    'v_0'       : -52 * mV,               # resting potential\n",
    "    'v_rst'     : -52 * mV,               # reset potential after spike\n",
    "    'v_th'      : -45 * mV,               # threshold for spiking\n",
    "    't_mbr'     : .002 * uF * 10. * Mohm, # membrane time scale (capacitance * resistance)\n",
    "\n",
    "    # Jürgensen et al https://doi.org/10.1088/2634-4386/ac3ba6\n",
    "    'tau'       : 5 * ms,                 # time constant (this is the excitatory one, the inhibitory is 10 ms)\n",
    "\n",
    "    # Lazar et at https://doi.org/10.7554/eLife.62362\n",
    "    # they cite Kakaria and de Bivort 2017, but those have used 2 ms\n",
    "    't_rfc'     : 2.2 * ms,               # refractory period\n",
    "\n",
    "    # Paul et al 2015 doi: 10.3389/fncel.2015.00029\n",
    "    't_dly'     : 1.8*ms,                 # delay for changes in post-synaptic neuron\n",
    "\n",
    "    # empirical \n",
    "    'w_syn'     : .275 * mV,              # weight per synapse (note: modulated by exponential decay)    default: 0.275*mV\n",
    "    'r_poi'     : 150*Hz,                 # default rate of the Poisson input\n",
    "    'r_poi2'    :  10*Hz,                 # default rate of another Poisson input (useful for different frequencies)\n",
    "    'f_poi'     : 250,                    # scaling factor for Poisson synapse\n",
    "\n",
    "    # equations for neurons\n",
    "    'eqs'       : '''\n",
    "                    dv/dt = (x - (v - v_0)) / t_mbr : volt (unless refractory)\n",
    "                    dx/dt = -x / tau                : volt (unless refractory) \n",
    "                    rfc                             : second\n",
    "                    ''',\n",
    "    # condition for spike\n",
    "    'eq_th'     : 'v > v_th', \n",
    "    # rules for spike        \n",
    "    'eq_rst'    : 'v = v_rst; w = 0; x = 0 * mV', \n",
    "}"
   ]
  },
  {
   "cell_type": "code",
   "execution_count": null,
   "id": "5a6081d5",
   "metadata": {},
   "outputs": [],
   "source": [
    "#  activation\n",
    "# instructions = [(0, \"stim\", []), (0.25, \"stim\", [11786]), (1, \"end\", [])]\n",
    "\n",
    "# mod.run_exp(exp_name=\"pMP2_new\", exp_inst=instructions, **run_exp_kw_args, params=params)"
   ]
  },
  {
   "cell_type": "code",
   "execution_count": 7,
   "metadata": {},
   "outputs": [],
   "source": [
    "neurons = ['pMP2', 'dPR1', 'dMS9']"
   ]
  },
  {
   "cell_type": "code",
   "execution_count": null,
   "metadata": {},
   "outputs": [
    {
     "name": "stdout",
     "output_type": "stream",
     "text": [
      ">>> Experiment:     dMS9_screen\n",
      "    Output files:   ..\\results\\manc_test\\dMS9_screen.parquet\n",
      "                    ..\\results\\manc_test\\dMS9_screen.pickle\n",
      "    Instructions:\n",
      "         0.0 |     stim | \n",
      "        0.25 |     stim | 10338 10494\n",
      "        1.25 | stim_off | \n",
      "         1.5 |      end | \n",
      "    Elapsed time:   1032 s\n"
     ]
    }
   ],
   "source": [
    "\n",
    "for neuron in neurons:\n",
    "    instructions = [(0, \"stim\", []), (0.25, \"stim\", type_mancid_dict[neuron]), (1.25, \"stim_off\", []), (1.5, \"end\", [])]\n",
    "\n",
    "    mod.run_exp(exp_name=f'{neuron}_screen', exp_inst=instructions, **run_exp_kw_args, params=params)"
   ]
  },
  {
   "attachments": {},
   "cell_type": "markdown",
   "metadata": {},
   "source": [
    "# Process results\n",
    "\n",
    "The results from different simulations can be combined and visualized in different ways.\n",
    "Below, we show how to\n",
    "- save the average rate across trials and standard deviation\n",
    "- create spike raster plots\n",
    "- plot line plots and heat maps with firing rate changes throughout the simulation"
   ]
  },
  {
   "cell_type": "code",
   "execution_count": 8,
   "metadata": {},
   "outputs": [],
   "source": [
    "# choose experiments to load\n",
    "# outputs = [\n",
    "#     \"../results/manc_test-example/pMP2_new.parquet\",\n",
    "#     \"../results/manc_test-example/pMP2.parquet\"\n",
    "# ]\n",
    "outputs = [ f'../results/manc_test/{neuron}_screen.parquet' for neuron in neurons ]\n",
    "\n",
    "# load spike times, calculate rate + standard deviation\n",
    "df_spkt = ana.load_exps(outputs)\n",
    "df_rate, df_std = ana.get_rate(df_spkt, duration=1.5)\n",
    "\n",
    "# convert IDs to custom names, if possible\n",
    "# df_rate = ana.rename_index(df_rate, name2id)\n",
    "# df_std = ana.rename_index(df_std, name2id)\n",
    "\n",
    "# # save as spreadsheets\n",
    "# ana.save_xls(df_rate, \"../results/example/rate.xlsx\")\n",
    "# ana.save_xls(df_std, \"../results/example/rate_std.xlsx\")"
   ]
  },
  {
   "cell_type": "markdown",
   "id": "64dcf867",
   "metadata": {},
   "source": [
    "## Plots using spike times in `df_spkt`"
   ]
  },
  {
   "cell_type": "code",
   "execution_count": null,
   "metadata": {},
   "outputs": [],
   "source": [
    "# raster plots\n",
    "neuron_groups = {'ps_i2_hg_MNs': ['ps1 MN', 'i2 MN', 'hg1 MN', 'hg2 MN', 'hg3 MN', 'hg4 MN'],\n",
    "                 'tp_tt_b_MNs': ['tp1 MN', 'tp2 MN', 'tpn MN', 'TTMn', 'b1 MN', 'b2 MN', 'b3 MN'], \n",
    "                 'DLM_MNs': ['DLMn a, b', 'DLMn c-f'],\n",
    "                 'DVM1_2_MNs': ['DVMn 1a-c', 'DVMn 2a, b'], \n",
    "                 'DVM3_h_MNwm35_MNs': ['DVMn 3a, b', 'hDVM MN', 'MNwm35']}\n",
    "\n",
    "for ng,ng_ids in neuron_groups.items():\n",
    "    # Transform list of types into list of IDs\n",
    "    neu = []\n",
    "    for neuron in ng_ids:\n",
    "        neu.extend(type_mancid_dict[neuron])\n",
    "    # Save raster and inter-spike-interval plots\n",
    "    vis.plot_raster(df_spkt, neu, xlims=(0, 1.5), id2name=mancid_type_dict, path=f'../results/figures/raster_{ng}.pdf')\n",
    "    vis.plot_isi_hist(df_spkt, neu, id2name=mancid_type_dict, bins=50, path=f'../results/figures/isi_{ng}.pdf')"
   ]
  },
  {
   "cell_type": "markdown",
   "metadata": {},
   "source": [
    "All three neurons activate the two IN03B024 strongest. Further, vPR9 is among the top five (spike rate after activation) for all three neurons. All neurons also elicit high activity in vMS12 neurons. "
   ]
  },
  {
   "cell_type": "code",
   "execution_count": null,
   "metadata": {},
   "outputs": [],
   "source": []
  },
  {
   "cell_type": "code",
   "execution_count": 17,
   "metadata": {},
   "outputs": [
    {
     "data": {
      "text/html": [
       "<div>\n",
       "<style scoped>\n",
       "    .dataframe tbody tr th:only-of-type {\n",
       "        vertical-align: middle;\n",
       "    }\n",
       "\n",
       "    .dataframe tbody tr th {\n",
       "        vertical-align: top;\n",
       "    }\n",
       "\n",
       "    .dataframe thead th {\n",
       "        text-align: right;\n",
       "    }\n",
       "</style>\n",
       "<table border=\"1\" class=\"dataframe\">\n",
       "  <thead>\n",
       "    <tr style=\"text-align: right;\">\n",
       "      <th>exp_name</th>\n",
       "      <th>dMS9_screen</th>\n",
       "      <th>dPR1_screen</th>\n",
       "      <th>pMP2_screen</th>\n",
       "    </tr>\n",
       "    <tr>\n",
       "      <th>database_id</th>\n",
       "      <th></th>\n",
       "      <th></th>\n",
       "      <th></th>\n",
       "    </tr>\n",
       "  </thead>\n",
       "  <tbody>\n",
       "    <tr>\n",
       "      <th>IN03B024</th>\n",
       "      <td>135.977778</td>\n",
       "      <td>131.222222</td>\n",
       "      <td>112.200000</td>\n",
       "    </tr>\n",
       "    <tr>\n",
       "      <th>IN03B024</th>\n",
       "      <td>132.955556</td>\n",
       "      <td>127.422222</td>\n",
       "      <td>108.600000</td>\n",
       "    </tr>\n",
       "    <tr>\n",
       "      <th>vMS12</th>\n",
       "      <td>125.266667</td>\n",
       "      <td>121.088889</td>\n",
       "      <td>98.511111</td>\n",
       "    </tr>\n",
       "    <tr>\n",
       "      <th>vMS12</th>\n",
       "      <td>125.822222</td>\n",
       "      <td>119.733333</td>\n",
       "      <td>94.533333</td>\n",
       "    </tr>\n",
       "    <tr>\n",
       "      <th>dPR1</th>\n",
       "      <td>0.000000</td>\n",
       "      <td>118.311111</td>\n",
       "      <td>72.577778</td>\n",
       "    </tr>\n",
       "    <tr>\n",
       "      <th>vPR9</th>\n",
       "      <td>125.977778</td>\n",
       "      <td>118.111111</td>\n",
       "      <td>101.800000</td>\n",
       "    </tr>\n",
       "    <tr>\n",
       "      <th>vMS12</th>\n",
       "      <td>121.733333</td>\n",
       "      <td>116.911111</td>\n",
       "      <td>93.133333</td>\n",
       "    </tr>\n",
       "    <tr>\n",
       "      <th>dPR1</th>\n",
       "      <td>0.000000</td>\n",
       "      <td>116.666667</td>\n",
       "      <td>77.066667</td>\n",
       "    </tr>\n",
       "    <tr>\n",
       "      <th>dMS9</th>\n",
       "      <td>154.933333</td>\n",
       "      <td>115.133333</td>\n",
       "      <td>90.777778</td>\n",
       "    </tr>\n",
       "    <tr>\n",
       "      <th>dMS9</th>\n",
       "      <td>151.977778</td>\n",
       "      <td>114.444444</td>\n",
       "      <td>91.444444</td>\n",
       "    </tr>\n",
       "    <tr>\n",
       "      <th>dMS2</th>\n",
       "      <td>105.666667</td>\n",
       "      <td>111.111111</td>\n",
       "      <td>85.266667</td>\n",
       "    </tr>\n",
       "    <tr>\n",
       "      <th>vMS12</th>\n",
       "      <td>112.911111</td>\n",
       "      <td>110.755556</td>\n",
       "      <td>84.200000</td>\n",
       "    </tr>\n",
       "    <tr>\n",
       "      <th>IN11B004</th>\n",
       "      <td>110.800000</td>\n",
       "      <td>109.555556</td>\n",
       "      <td>90.911111</td>\n",
       "    </tr>\n",
       "    <tr>\n",
       "      <th>vPR9</th>\n",
       "      <td>117.022222</td>\n",
       "      <td>109.111111</td>\n",
       "      <td>96.222222</td>\n",
       "    </tr>\n",
       "    <tr>\n",
       "      <th>vPR9</th>\n",
       "      <td>115.288889</td>\n",
       "      <td>108.911111</td>\n",
       "      <td>91.955556</td>\n",
       "    </tr>\n",
       "    <tr>\n",
       "      <th>IN11B004</th>\n",
       "      <td>106.733333</td>\n",
       "      <td>106.200000</td>\n",
       "      <td>87.600000</td>\n",
       "    </tr>\n",
       "    <tr>\n",
       "      <th>ps1 MN</th>\n",
       "      <td>101.155556</td>\n",
       "      <td>105.844444</td>\n",
       "      <td>80.955556</td>\n",
       "    </tr>\n",
       "    <tr>\n",
       "      <th>vMS12</th>\n",
       "      <td>105.866667</td>\n",
       "      <td>104.800000</td>\n",
       "      <td>84.044444</td>\n",
       "    </tr>\n",
       "    <tr>\n",
       "      <th>IN08A002</th>\n",
       "      <td>95.600000</td>\n",
       "      <td>104.777778</td>\n",
       "      <td>45.955556</td>\n",
       "    </tr>\n",
       "    <tr>\n",
       "      <th>vMS12</th>\n",
       "      <td>104.933333</td>\n",
       "      <td>104.311111</td>\n",
       "      <td>78.622222</td>\n",
       "    </tr>\n",
       "  </tbody>\n",
       "</table>\n",
       "</div>"
      ],
      "text/plain": [
       "exp_name     dMS9_screen  dPR1_screen  pMP2_screen\n",
       "database_id                                       \n",
       "IN03B024      135.977778   131.222222   112.200000\n",
       "IN03B024      132.955556   127.422222   108.600000\n",
       "vMS12         125.266667   121.088889    98.511111\n",
       "vMS12         125.822222   119.733333    94.533333\n",
       "dPR1            0.000000   118.311111    72.577778\n",
       "vPR9          125.977778   118.111111   101.800000\n",
       "vMS12         121.733333   116.911111    93.133333\n",
       "dPR1            0.000000   116.666667    77.066667\n",
       "dMS9          154.933333   115.133333    90.777778\n",
       "dMS9          151.977778   114.444444    91.444444\n",
       "dMS2          105.666667   111.111111    85.266667\n",
       "vMS12         112.911111   110.755556    84.200000\n",
       "IN11B004      110.800000   109.555556    90.911111\n",
       "vPR9          117.022222   109.111111    96.222222\n",
       "vPR9          115.288889   108.911111    91.955556\n",
       "IN11B004      106.733333   106.200000    87.600000\n",
       "ps1 MN        101.155556   105.844444    80.955556\n",
       "vMS12         105.866667   104.800000    84.044444\n",
       "IN08A002       95.600000   104.777778    45.955556\n",
       "vMS12         104.933333   104.311111    78.622222"
      ]
     },
     "execution_count": 17,
     "metadata": {},
     "output_type": "execute_result"
    }
   ],
   "source": [
    "# select top 20 neurons\n",
    "top20 = df_rate.sort_values(by=\"dPR1_screen\", ascending=False).head(20)\n",
    "top20.rename(mancid_type_dict)"
   ]
  },
  {
   "cell_type": "code",
   "execution_count": null,
   "metadata": {},
   "outputs": [
    {
     "name": "stdout",
     "output_type": "stream",
     "text": [
      "INFO: setting figsize to (10, 6.0)\n"
     ]
    },
    {
     "data": {
      "image/png": "[encoded data removed]",
      "text/plain": [
       "<Figure size 1000x600 with 4 Axes>"
      ]
     },
     "metadata": {},
     "output_type": "display_data"
    }
   ],
   "source": [
    "# plot heatmap\n",
    "vis.plot_rate_heatmap(df_spkt, top20.index, xlims=(0, 1), do_zscore=False, id2name=mancid_type_dict)"
   ]
  },
  {
   "attachments": {},
   "cell_type": "markdown",
   "metadata": {},
   "source": [
    "## Plots using average firing rates in `df_rate`"
   ]
  },
  {
   "cell_type": "code",
   "execution_count": null,
   "metadata": {},
   "outputs": [],
   "source": [
    "# plot firing rate matrix\n",
    "vis.firing_rate_matrix(df_rate, id2name=mancid_type_dict)"
   ]
  },
  {
   "cell_type": "code",
   "execution_count": null,
   "metadata": {},
   "outputs": [],
   "source": [
    "# subtract P9 firing rate from all neurons\n",
    "df_change = df_rate.subtract(df_rate.loc[:, \"pMP2\"], axis=0)\n",
    "\n",
    "# ignore absolute changes in firing rate smaller than some threshold\n",
    "df_change = df_change[(df_change.abs() >= 2).any(axis=1)]\n",
    "\n",
    "# plot difference matrix\n",
    "vis.firing_rate_matrix(df_change, rate_change=True)"
   ]
  }
 ],
 "metadata": {
  "jupytext": {
   "custom_cell_magics": "kql"
  },
  "kernelspec": {
   "display_name": "spiking_neural_network_model",
   "language": "python",
   "name": "python3"
  },
  "language_info": {
   "codemirror_mode": {
    "name": "ipython",
    "version": 3
   },
   "file_extension": ".py",
   "mimetype": "text/x-python",
   "name": "python",
   "nbconvert_exporter": "python",
   "pygments_lexer": "ipython3",
   "version": "3.11.13"
  }
 },
 "nbformat": 4,
 "nbformat_minor": 2
}
